{
  "nbformat": 4,
  "nbformat_minor": 0,
  "metadata": {
    "colab": {
      "provenance": [],
      "authorship_tag": "ABX9TyMcjpZp+4xpGzlD2/Rzmuig",
      "include_colab_link": true
    },
    "kernelspec": {
      "name": "python3",
      "display_name": "Python 3"
    },
    "language_info": {
      "name": "python"
    }
  },
  "cells": [
    {
      "cell_type": "markdown",
      "metadata": {
        "id": "view-in-github",
        "colab_type": "text"
      },
      "source": [
        "<a href=\"https://colab.research.google.com/github/KARANBUNKAR/Ml-assignment-/blob/main/linear%20regression.ipynb\" target=\"_parent\"><img src=\"https://colab.research.google.com/assets/colab-badge.svg\" alt=\"Open In Colab\"/></a>"
      ]
    },
    {
      "cell_type": "code",
      "source": [],
      "metadata": {
        "id": "TkSMJfBaB6JP"
      },
      "execution_count": null,
      "outputs": []
    },
    {
      "cell_type": "code",
      "source": [
        "# Import necessary libraries\n",
        "import pandas as pd\n",
        "from sklearn.model_selection import train_test_split\n",
        "from sklearn.linear_model import LinearRegression\n",
        "from sklearn.metrics import mean_squared_error\n",
        "\n",
        "# Define the dataset with YearsExperience and Salary\n",
        "data = {\n",
        "    'YearsExperience': [1.1, 1.3, 1.5, 2.0, 2.2, 2.9, 3.0, 3.2, 3.5, 4.0, 4.2, 4.5, 5.0, 5.3, 5.5, 6.0, 6.5, 7.0, 7.5, 8.0],\n",
        "    'Salary': [40000, 42000, 44000, 48000, 50000, 55000, 56000, 58000, 60000, 62000, 64000, 66000, 70000, 72000, 74000, 78000, 80000, 84000, 86000, 90000]\n",
        "}\n",
        "\n",
        "# Convert to DataFrame\n",
        "df = pd.DataFrame(data)\n",
        "\n",
        "# Define features and target variable\n",
        "X = df[['YearsExperience']]\n",
        "y = df['Salary']\n",
        "\n",
        "# Split the dataset into training and testing sets (80-20 split)\n",
        "X_train, X_test, y_train, y_test = train_test_split(X, y, test_size=0.2, random_state=42)\n",
        "\n",
        "# Initialize and fit the Linear Regression model\n",
        "model = LinearRegression()\n",
        "model.fit(X_train, y_train)\n",
        "\n",
        "# Make predictions on the test set\n",
        "y_pred = model.predict(X_test)\n",
        "\n",
        "# Calculate Mean Squared Error (MSE)\n",
        "mse = mean_squared_error(y_test, y_pred)\n",
        "print(\"\\nMean Squared Error of the Linear Regression model:\", mse)\n",
        "\n",
        "# Function to predict salary based on user input\n",
        "def predict_salary(experience):\n",
        "    # Predict the salary based on the user input\n",
        "    predicted_salary = model.predict([[experience]])\n",
        "    return predicted_salary[0]\n",
        "\n",
        "# Get user input for YearsExperience\n",
        "try:\n",
        "    user_experience = float(input(\"\\nEnter Years of Experience: \"))\n",
        "    predicted_salary = predict_salary(user_experience)\n",
        "    print(f\"Predicted Salary for {user_experience} years of experience: ${predicted_salary:.2f}\")\n",
        "except ValueError:\n",
        "    print(\"Invalid input. Please enter a numeric value for Years of Experience.\")\n"
      ],
      "metadata": {
        "colab": {
          "base_uri": "https://localhost:8080/"
        },
        "id": "k7O0VqDJCqaZ",
        "outputId": "d84564dd-9d81-40d4-ca3f-edb735c77caf"
      },
      "execution_count": 4,
      "outputs": [
        {
          "output_type": "stream",
          "name": "stdout",
          "text": [
            "\n",
            "Mean Squared Error of the Linear Regression model: 2885651.5527650053\n",
            "\n",
            "Enter Years of Experience: 11\n",
            "Predicted Salary for 11.0 years of experience: $111323.80\n"
          ]
        },
        {
          "output_type": "stream",
          "name": "stderr",
          "text": [
            "/usr/local/lib/python3.10/dist-packages/sklearn/base.py:465: UserWarning: X does not have valid feature names, but LinearRegression was fitted with feature names\n",
            "  warnings.warn(\n"
          ]
        }
      ]
    }
  ]
}